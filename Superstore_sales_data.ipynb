{
 "cells": [
  {
   "cell_type": "code",
   "execution_count": 35,
   "id": "aeab7b24-963b-4963-a4cf-72e692011e11",
   "metadata": {},
   "outputs": [],
   "source": [
    "import pandas as pd\n",
    "\n",
    "# Load dataset\n",
    "df = pd.read_csv(\"Superstore Sales\\superstore_final_dataset (1).csv\", encoding='ISO-8859-1')\n"
   ]
  },
  {
   "cell_type": "code",
   "execution_count": 36,
   "id": "f8aecca1-d08d-4251-b1f1-cf54981bf965",
   "metadata": {},
   "outputs": [
    {
     "name": "stdout",
     "output_type": "stream",
     "text": [
      "   Row_ID        Order_ID  Order_Date   Ship_Date       Ship_Mode Customer_ID  \\\n",
      "0       1  CA-2017-152156   8/11/2017  11/11/2017    Second Class    CG-12520   \n",
      "1       2  CA-2017-152156   8/11/2017  11/11/2017    Second Class    CG-12520   \n",
      "2       3  CA-2017-138688   12/6/2017  16/06/2017    Second Class    DV-13045   \n",
      "3       4  US-2016-108966  11/10/2016  18/10/2016  Standard Class    SO-20335   \n",
      "4       5  US-2016-108966  11/10/2016  18/10/2016  Standard Class    SO-20335   \n",
      "\n",
      "     Customer_Name    Segment        Country             City       State  \\\n",
      "0      Claire Gute   Consumer  United States        Henderson    Kentucky   \n",
      "1      Claire Gute   Consumer  United States        Henderson    Kentucky   \n",
      "2  Darrin Van Huff  Corporate  United States      Los Angeles  California   \n",
      "3    Sean O Donnel   Consumer  United States  Fort Lauderdale     Florida   \n",
      "4    Sean O Donnel   Consumer  United States  Fort Lauderdale     Florida   \n",
      "\n",
      "   Postal_Code Region       Product_ID         Category Sub_Category  \\\n",
      "0      42420.0  South  FUR-BO-10001798        Furniture    Bookcases   \n",
      "1      42420.0  South  FUR-CH-10000454        Furniture       Chairs   \n",
      "2      90036.0   West  OFF-LA-10000240  Office Supplies       Labels   \n",
      "3      33311.0  South  FUR-TA-10000577        Furniture       Tables   \n",
      "4      33311.0  South  OFF-ST-10000760  Office Supplies      Storage   \n",
      "\n",
      "                                        Product_Name     Sales  \n",
      "0                  Bush Somerset Collection Bookcase  261.9600  \n",
      "1  Hon Deluxe Fabric Upholstered Stacking Chairs,...  731.9400  \n",
      "2  Self-Adhesive Address Labels for Typewriters b...   14.6200  \n",
      "3      Bretford CR4500 Series Slim Rectangular Table  957.5775  \n",
      "4                      Eldon Fold N Roll Cart System   22.3680  \n"
     ]
    }
   ],
   "source": [
    "print(df.head())  # Display the first few rows"
   ]
  },
  {
   "cell_type": "code",
   "execution_count": 37,
   "id": "d808495b-f585-4540-b5f0-adfc0bf6656d",
   "metadata": {},
   "outputs": [
    {
     "name": "stdout",
     "output_type": "stream",
     "text": [
      "<class 'pandas.core.frame.DataFrame'>\n",
      "RangeIndex: 9800 entries, 0 to 9799\n",
      "Data columns (total 18 columns):\n",
      " #   Column         Non-Null Count  Dtype  \n",
      "---  ------         --------------  -----  \n",
      " 0   Row_ID         9800 non-null   int64  \n",
      " 1   Order_ID       9800 non-null   object \n",
      " 2   Order_Date     9800 non-null   object \n",
      " 3   Ship_Date      9800 non-null   object \n",
      " 4   Ship_Mode      9800 non-null   object \n",
      " 5   Customer_ID    9800 non-null   object \n",
      " 6   Customer_Name  9800 non-null   object \n",
      " 7   Segment        9800 non-null   object \n",
      " 8   Country        9800 non-null   object \n",
      " 9   City           9800 non-null   object \n",
      " 10  State          9800 non-null   object \n",
      " 11  Postal_Code    9789 non-null   float64\n",
      " 12  Region         9800 non-null   object \n",
      " 13  Product_ID     9800 non-null   object \n",
      " 14  Category       9800 non-null   object \n",
      " 15  Sub_Category   9800 non-null   object \n",
      " 16  Product_Name   9800 non-null   object \n",
      " 17  Sales          9800 non-null   float64\n",
      "dtypes: float64(2), int64(1), object(15)\n",
      "memory usage: 1.3+ MB\n",
      "None\n"
     ]
    }
   ],
   "source": [
    "print(df.info())  # Get summary info of the dataset"
   ]
  },
  {
   "cell_type": "code",
   "execution_count": 38,
   "id": "f41c7042-fb1f-4f25-8b3c-1d33b639d74c",
   "metadata": {},
   "outputs": [
    {
     "name": "stdout",
     "output_type": "stream",
     "text": [
      "Row_ID            0\n",
      "Order_ID          0\n",
      "Order_Date        0\n",
      "Ship_Date         0\n",
      "Ship_Mode         0\n",
      "Customer_ID       0\n",
      "Customer_Name     0\n",
      "Segment           0\n",
      "Country           0\n",
      "City              0\n",
      "State             0\n",
      "Postal_Code      11\n",
      "Region            0\n",
      "Product_ID        0\n",
      "Category          0\n",
      "Sub_Category      0\n",
      "Product_Name      0\n",
      "Sales             0\n",
      "dtype: int64\n"
     ]
    }
   ],
   "source": [
    "# Checking for missing values\n",
    "missing_values = df.isnull().sum()\n",
    "print(missing_values)"
   ]
  },
  {
   "cell_type": "code",
   "execution_count": 39,
   "id": "ba292db7-838c-407c-ab8e-c2c1c8226e6b",
   "metadata": {},
   "outputs": [
    {
     "name": "stdout",
     "output_type": "stream",
     "text": [
      "Missing values after handling:\n",
      " Row_ID           0\n",
      "Order_ID         0\n",
      "Order_Date       0\n",
      "Ship_Date        0\n",
      "Ship_Mode        0\n",
      "Customer_ID      0\n",
      "Customer_Name    0\n",
      "Segment          0\n",
      "Country          0\n",
      "City             0\n",
      "State            0\n",
      "Postal_Code      0\n",
      "Region           0\n",
      "Product_ID       0\n",
      "Category         0\n",
      "Sub_Category     0\n",
      "Product_Name     0\n",
      "Sales            0\n",
      "dtype: int64\n"
     ]
    }
   ],
   "source": [
    "# Filling rows with missing values in 'Postal_Code' with a placeholder\n",
    "df['Postal_Code'] = df['Postal_Code'].fillna('Unknown')\n",
    "print(\"Missing values after handling:\\n\", df.isnull().sum())"
   ]
  },
  {
   "cell_type": "code",
   "execution_count": 40,
   "id": "0a2d9fd2-3139-4495-b6a3-0af2a3bbbaa0",
   "metadata": {},
   "outputs": [
    {
     "name": "stdout",
     "output_type": "stream",
     "text": [
      "\n",
      "Data types after converting date columns:\n",
      " Row_ID                    int64\n",
      "Order_ID                 object\n",
      "Order_Date       datetime64[ns]\n",
      "Ship_Date        datetime64[ns]\n",
      "Ship_Mode                object\n",
      "Customer_ID              object\n",
      "Customer_Name            object\n",
      "Segment                  object\n",
      "Country                  object\n",
      "City                     object\n",
      "State                    object\n",
      "Postal_Code              object\n",
      "Region                   object\n",
      "Product_ID               object\n",
      "Category                 object\n",
      "Sub_Category             object\n",
      "Product_Name             object\n",
      "Sales                   float64\n",
      "dtype: object\n",
      "\n",
      "Sample rows after date conversion:\n",
      "   Order_Date  Ship_Date\n",
      "0 2017-11-08 2017-11-11\n",
      "1 2017-11-08 2017-11-11\n",
      "2 2017-06-12 2017-06-16\n",
      "3 2016-10-11 2016-10-18\n",
      "4 2016-10-11 2016-10-18\n"
     ]
    }
   ],
   "source": [
    "# Convert 'Order_Date' and 'Ship_Date' to datetime with day-first format\n",
    "df['Order_Date'] = pd.to_datetime(df['Order_Date'], dayfirst=True)\n",
    "df['Ship_Date'] = pd.to_datetime(df['Ship_Date'], dayfirst=True)\n",
    "\n",
    "# Display the data types to verify conversion\n",
    "print(\"\\nData types after converting date columns:\\n\", df.dtypes)\n",
    "\n",
    "# Show a few sample rows to verify date conversion\n",
    "print(\"\\nSample rows after date conversion:\\n\", df[['Order_Date', 'Ship_Date']].head())\n"
   ]
  },
  {
   "cell_type": "code",
   "execution_count": 41,
   "id": "0821d7ee-f13c-49e5-86cd-64bac77f4b16",
   "metadata": {},
   "outputs": [
    {
     "name": "stdout",
     "output_type": "stream",
     "text": [
      "\n",
      "Number of duplicate rows before removal: 0\n",
      "Number of duplicate rows after removal: 0\n"
     ]
    }
   ],
   "source": [
    "# Checking for duplicates before removal\n",
    "print(\"\\nNumber of duplicate rows before removal:\", df.duplicated().sum())\n",
    "\n",
    "# Removing duplicate rows\n",
    "df = df.drop_duplicates()\n",
    "\n",
    "# Checking for duplicates after removal\n",
    "print(\"Number of duplicate rows after removal:\", df.duplicated().sum())\n"
   ]
  },
  {
   "cell_type": "code",
   "execution_count": 43,
   "id": "bc054f69-1da6-4df4-a416-25dacb898dba",
   "metadata": {},
   "outputs": [
    {
     "name": "stdout",
     "output_type": "stream",
     "text": [
      "count     9800.000000\n",
      "mean       230.769059\n",
      "std        626.651875\n",
      "min          0.444000\n",
      "25%         17.248000\n",
      "50%         54.490000\n",
      "75%        210.605000\n",
      "max      22638.480000\n",
      "Name: Sales, dtype: float64\n"
     ]
    }
   ],
   "source": [
    "# Checking for potential outliers in 'Sales'\n",
    "sales_summary = df['Sales'].describe()\n",
    "print(sales_summary)"
   ]
  },
  {
   "cell_type": "code",
   "execution_count": 49,
   "id": "aea4fd3c-cc06-4392-87fb-e49ea69f4342",
   "metadata": {},
   "outputs": [
    {
     "name": "stdout",
     "output_type": "stream",
     "text": [
      "\n",
      "Number of unique Customer_IDs in Customer Table: 793\n",
      "Number of unique Customer_IDs in Sales Table: 793\n"
     ]
    }
   ],
   "source": [
    "unique_customer_ids_in_customers = df['Customer_ID'].nunique()\n",
    "unique_customer_ids_in_sales = df['Customer_ID'].nunique()\n",
    "\n",
    "\n",
    "print(f\"\\nNumber of unique Customer_IDs in Customer Table: {unique_customer_ids_in_customers}\")\n",
    "print(f\"Number of unique Customer_IDs in Sales Table: {unique_customer_ids_in_sales}\")\n"
   ]
  },
  {
   "cell_type": "code",
   "execution_count": 50,
   "id": "466b98d9-ed57-4507-8d5d-591f7bf4105a",
   "metadata": {},
   "outputs": [
    {
     "name": "stdout",
     "output_type": "stream",
     "text": [
      "Customer Table (First 5 rows):\n",
      "  Customer_ID    Customer_Name    Segment             City           State  \\\n",
      "0    CG-12520      claire gute   Consumer        henderson        kentucky   \n",
      "1    DV-13045  darrin van huff  Corporate      los angeles      california   \n",
      "2    SO-20335    sean o donnel   Consumer  fort lauderdale         florida   \n",
      "3    BH-11710  brosina hoffman   Consumer      los angeles      california   \n",
      "4    AA-10480     andrew allen   Consumer          concord  north carolina   \n",
      "\n",
      "  Region  \n",
      "0  South  \n",
      "1   West  \n",
      "2  South  \n",
      "3   West  \n",
      "4  South  \n",
      "\n",
      "Sales Table (First 5 rows):\n",
      "   Row_ID        Order_ID Order_Date  Ship_Date       Ship_Mode Customer_ID  \\\n",
      "0       1  CA-2017-152156 2017-11-08 2017-11-11    Second Class    CG-12520   \n",
      "1       2  CA-2017-152156 2017-11-08 2017-11-11    Second Class    CG-12520   \n",
      "2       3  CA-2017-138688 2017-06-12 2017-06-16    Second Class    DV-13045   \n",
      "3       4  US-2016-108966 2016-10-11 2016-10-18  Standard Class    SO-20335   \n",
      "4       5  US-2016-108966 2016-10-11 2016-10-18  Standard Class    SO-20335   \n",
      "\n",
      "         Country Postal_Code       Product_ID         Category Sub_Category  \\\n",
      "0  United States     42420.0  FUR-BO-10001798        Furniture    Bookcases   \n",
      "1  United States     42420.0  FUR-CH-10000454        Furniture       Chairs   \n",
      "2  United States     90036.0  OFF-LA-10000240  Office Supplies       Labels   \n",
      "3  United States     33311.0  FUR-TA-10000577        Furniture       Tables   \n",
      "4  United States     33311.0  OFF-ST-10000760  Office Supplies      Storage   \n",
      "\n",
      "                                        Product_Name     Sales  \n",
      "0                  Bush Somerset Collection Bookcase  261.9600  \n",
      "1  Hon Deluxe Fabric Upholstered Stacking Chairs,...  731.9400  \n",
      "2  Self-Adhesive Address Labels for Typewriters b...   14.6200  \n",
      "3      Bretford CR4500 Series Slim Rectangular Table  957.5775  \n",
      "4                      Eldon Fold N Roll Cart System   22.3680  \n",
      "\n",
      "Number of unique Customer_IDs in Customer Table: 793\n",
      "Number of unique Customer_IDs in Sales Table: 793\n",
      "\n",
      "Merged Table (First 5 rows to verify normalization):\n",
      "   Row_ID        Order_ID Order_Date  Ship_Date     Ship_Mode Customer_ID  \\\n",
      "0       1  CA-2017-152156 2017-11-08 2017-11-11  Second Class    CG-12520   \n",
      "1       1  CA-2017-152156 2017-11-08 2017-11-11  Second Class    CG-12520   \n",
      "2       1  CA-2017-152156 2017-11-08 2017-11-11  Second Class    CG-12520   \n",
      "3       2  CA-2017-152156 2017-11-08 2017-11-11  Second Class    CG-12520   \n",
      "4       2  CA-2017-152156 2017-11-08 2017-11-11  Second Class    CG-12520   \n",
      "\n",
      "         Country Postal_Code       Product_ID   Category Sub_Category  \\\n",
      "0  United States     42420.0  FUR-BO-10001798  Furniture    Bookcases   \n",
      "1  United States     42420.0  FUR-BO-10001798  Furniture    Bookcases   \n",
      "2  United States     42420.0  FUR-BO-10001798  Furniture    Bookcases   \n",
      "3  United States     42420.0  FUR-CH-10000454  Furniture       Chairs   \n",
      "4  United States     42420.0  FUR-CH-10000454  Furniture       Chairs   \n",
      "\n",
      "                                        Product_Name   Sales Customer_Name  \\\n",
      "0                  Bush Somerset Collection Bookcase  261.96   claire gute   \n",
      "1                  Bush Somerset Collection Bookcase  261.96   claire gute   \n",
      "2                  Bush Somerset Collection Bookcase  261.96   claire gute   \n",
      "3  Hon Deluxe Fabric Upholstered Stacking Chairs,...  731.94   claire gute   \n",
      "4  Hon Deluxe Fabric Upholstered Stacking Chairs,...  731.94   claire gute   \n",
      "\n",
      "    Segment       City     State   Region  \n",
      "0  Consumer  henderson  kentucky    South  \n",
      "1  Consumer    houston     texas  Central  \n",
      "2  Consumer     dallas     texas  Central  \n",
      "3  Consumer  henderson  kentucky    South  \n",
      "4  Consumer    houston     texas  Central  \n"
     ]
    }
   ],
   "source": [
    "# 1. Extract unique customer data\n",
    "customer_columns = ['Customer_ID', 'Customer_Name', 'Segment', 'City', 'State', 'Region']\n",
    "customers = df[customer_columns].drop_duplicates().reset_index(drop=True)\n",
    "\n",
    "# Displaying the customer table\n",
    "print(\"Customer Table (First 5 rows):\")\n",
    "print(customers.head())\n",
    "\n",
    "# 2. Create a sales table that references customers by Customer_ID\n",
    "sales_columns = [col for col in df.columns if col not in customer_columns or col == 'Customer_ID']\n",
    "sales = df[sales_columns].copy()\n",
    "\n",
    "# Displaying the sales table\n",
    "print(\"\\nSales Table (First 5 rows):\")\n",
    "print(sales.head())\n",
    "\n",
    "# Verifying the relationship (Checking unique Customer_IDs)\n",
    "unique_customer_ids_in_customers = customers['Customer_ID'].nunique()\n",
    "unique_customer_ids_in_sales = sales['Customer_ID'].nunique()\n",
    "\n",
    "print(f\"\\nNumber of unique Customer_IDs in Customer Table: {unique_customer_ids_in_customers}\")\n",
    "print(f\"Number of unique Customer_IDs in Sales Table: {unique_customer_ids_in_sales}\")\n",
    "\n",
    "# Example of merging the two tables to verify relational integrity (optional)\n",
    "merged_df = pd.merge(sales, customers, on='Customer_ID', how='inner')\n",
    "print(\"\\nMerged Table (First 5 rows to verify normalization):\")\n",
    "print(merged_df.head())\n"
   ]
  },
  {
   "cell_type": "code",
   "execution_count": null,
   "id": "c7d94362-00ab-42c0-a72c-c6e5cc6b315a",
   "metadata": {},
   "outputs": [],
   "source": []
  },
  {
   "cell_type": "code",
   "execution_count": null,
   "id": "115d03d0-e67c-4756-a4bc-1594f98e74b7",
   "metadata": {},
   "outputs": [],
   "source": []
  }
 ],
 "metadata": {
  "kernelspec": {
   "display_name": "Python 3 (ipykernel)",
   "language": "python",
   "name": "python3"
  },
  "language_info": {
   "codemirror_mode": {
    "name": "ipython",
    "version": 3
   },
   "file_extension": ".py",
   "mimetype": "text/x-python",
   "name": "python",
   "nbconvert_exporter": "python",
   "pygments_lexer": "ipython3",
   "version": "3.11.3"
  }
 },
 "nbformat": 4,
 "nbformat_minor": 5
}
